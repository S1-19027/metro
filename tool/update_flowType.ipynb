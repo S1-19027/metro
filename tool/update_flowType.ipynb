{
 "cells": [
  {
   "cell_type": "code",
   "execution_count": 3,
   "metadata": {},
   "outputs": [],
   "source": [
    "import csv\n",
    "import numpy as np\n",
    "import pandas as pd\n",
    "from tqdm import tqdm"
   ]
  },
  {
   "cell_type": "code",
   "execution_count": 13,
   "metadata": {},
   "outputs": [],
   "source": [
    "def UpdateIOFlow():\n",
    "    inFile = \"/data6/peiyan/SH-METR/results/metroData_Demandflow_10.csv\"\n",
    "    inData = open(inFile, 'r')\n",
    "    next(inData)\n",
    "    inDataList = list (inData)\n",
    "\n",
    "    outFile = \"/data6/peiyan/SH-METR/results/metroData_Demandflow_10_v2.csv\"\n",
    "    outData = open(outFile, 'w')\n",
    "    outData.writelines(\"date, timeslot, startTime, endTime, station, inFlow, outFlow, CinFlow, HBOinFlow, NHBinFlow, CoutFlow, HBOoutFlow, NHBoutFlow\\n\")\n",
    "\n",
    "    for row in tqdm(inDataList):\n",
    "        row = row.rstrip().split(',')\n",
    "        date = row[0]\n",
    "        timeslot = row[1]\n",
    "        slot_startTime = row[2]\n",
    "        slot_endTime = row[3]\n",
    "        station = row[4]\n",
    "\n",
    "        inFlow = row[5]\n",
    "        outFlow = row[6]\n",
    "        CinFlow = row[7]\n",
    "        HBOinFlow = row[8]\n",
    "        CoutFlow = row[10]\n",
    "        HBOoutFlow = row[11]\n",
    "\n",
    "        NHBinFlow = str(int(inFlow)-int(CinFlow)-int(HBOinFlow))\n",
    "        NHBoutFlow = str(int(outFlow)-int(CoutFlow)-int(HBOoutFlow))\n",
    "        outData.writelines(','.join([date, timeslot, slot_startTime ,slot_endTime, station, inFlow, outFlow, CinFlow, HBOinFlow, NHBinFlow, CoutFlow, HBOoutFlow, NHBoutFlow]) + '\\n')\n",
    "    \n",
    "    outData.close()\n",
    "    inData.close()\n",
    "\n",
    "    return None"
   ]
  },
  {
   "cell_type": "code",
   "execution_count": 11,
   "metadata": {},
   "outputs": [
    {
     "name": "stderr",
     "output_type": "stream",
     "text": [
      "100%|██████████| 3788892/3788892 [00:29<00:00, 127134.80it/s]\n"
     ]
    }
   ],
   "source": [
    "UpdateIOFlow()"
   ]
  },
  {
   "cell_type": "code",
   "execution_count": 17,
   "metadata": {},
   "outputs": [],
   "source": [
    "def UpdateODFlow():\n",
    "    inFile = \"/data6/peiyan/SH-METR/results/metroData_ODFlow_10.csv\"\n",
    "    inData = open(inFile, 'r')\n",
    "    next(inData)\n",
    "    inDataList = list (inData)\n",
    "\n",
    "    outFile = \"/data6/peiyan/SH-METR/results/metroData_ODFlow_10_v2.csv\"\n",
    "    outData = open(outFile, 'w')\n",
    "    outData.writelines(\"date, timeslot, startTime, endTime, originStation, destinationStation, Flow, CFlow, HBOFlow, NHBFlow\\n\")\n",
    "\n",
    "    for row in tqdm(inDataList):\n",
    "        row = row.rstrip().split(',')\n",
    "        date = row[0]\n",
    "        timeslot = row[1]\n",
    "        slot_startTime = row[2]\n",
    "        slot_endTime = row[3]\n",
    "        originStation = row[4]\n",
    "        destinationStation = row[5]\n",
    "\n",
    "        Flow = row[6]\n",
    "        CFlow = row[7]\n",
    "        HBOFlow = row[8]\n",
    "        NHBFlow =  str(int(Flow)- int(CFlow)-int(HBOFlow))\n",
    "\n",
    "\n",
    "        outData.writelines(','.join([date, timeslot, slot_startTime ,slot_endTime, originStation, destinationStation, Flow, CFlow, HBOFlow, NHBFlow]) + '\\n')\n",
    "    \n",
    "    outData.close()\n",
    "    inData.close()\n",
    "\n",
    "    return None"
   ]
  },
  {
   "cell_type": "code",
   "execution_count": 18,
   "metadata": {},
   "outputs": [
    {
     "name": "stderr",
     "output_type": "stream",
     "text": [
      "100%|██████████| 267318222/267318222 [29:30<00:00, 151015.31it/s]\n"
     ]
    }
   ],
   "source": [
    "UpdateODFlow()"
   ]
  }
 ],
 "metadata": {
  "kernelspec": {
   "display_name": "mybase",
   "language": "python",
   "name": "mybase"
  },
  "language_info": {
   "codemirror_mode": {
    "name": "ipython",
    "version": 3
   },
   "file_extension": ".py",
   "mimetype": "text/x-python",
   "name": "python",
   "nbconvert_exporter": "python",
   "pygments_lexer": "ipython3",
   "version": "3.9.19"
  }
 },
 "nbformat": 4,
 "nbformat_minor": 2
}
