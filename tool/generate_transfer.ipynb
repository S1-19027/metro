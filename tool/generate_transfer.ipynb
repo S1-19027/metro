{
 "cells": [
  {
   "cell_type": "markdown",
   "metadata": {},
   "source": [
    "### Generate transferStations.pkl as required"
   ]
  },
  {
   "cell_type": "code",
   "execution_count": 11,
   "metadata": {},
   "outputs": [],
   "source": [
    "import csv\n",
    "import pandas as pd\n",
    "import numpy as np\n",
    "import pickle as pkl\n",
    "\n",
    "# save transferStation,transferStationToNewID into Metro/transferStations.pkl\n",
    "# transferStation {newID:[oldIDs, name]}\n",
    "# transferStationToNewID {oldID, newOD}\n",
    "\n",
    "stationInfo=pd.read_csv('../../Metro/station_transInfo.csv').values\n",
    "transferStationToNewID={}\n",
    "transferStation={}\n",
    "\n",
    "for line in stationInfo:\n",
    "    newID=line[1]\n",
    "    IncludeID=line[5]\n",
    "    name=line[4]\n",
    "    if IncludeID==IncludeID: # IncludeID!= nan\n",
    "        IncludeID=eval(IncludeID)\n",
    "        transferStation[newID]=[IncludeID,name]\n",
    "        for oldID in IncludeID:\n",
    "            transferStationToNewID[oldID]=newID"
   ]
  },
  {
   "cell_type": "code",
   "execution_count": 16,
   "metadata": {},
   "outputs": [],
   "source": [
    "with open('../../Metro/transferStations.pkl','wb') as outfile:\n",
    "    pkl.dump([transferStation,transferStationToNewID],outfile)\n",
    "    "
   ]
  }
 ],
 "metadata": {
  "kernelspec": {
   "display_name": "mybase",
   "language": "python",
   "name": "mybase"
  },
  "language_info": {
   "codemirror_mode": {
    "name": "ipython",
    "version": 3
   },
   "file_extension": ".py",
   "mimetype": "text/x-python",
   "name": "python",
   "nbconvert_exporter": "python",
   "pygments_lexer": "ipython3",
   "version": "3.9.19"
  }
 },
 "nbformat": 4,
 "nbformat_minor": 2
}
