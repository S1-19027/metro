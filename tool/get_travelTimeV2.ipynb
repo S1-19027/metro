{
 "cells": [
  {
   "cell_type": "markdown",
   "metadata": {},
   "source": [
    "前一个版本实现了地铁站的POI抓取，这个脚本专门做时间提取及其 Debug"
   ]
  },
  {
   "cell_type": "code",
   "execution_count": 1,
   "metadata": {},
   "outputs": [],
   "source": [
    "import urllib.request #发送请求\n",
    "from urllib import parse #URL编码\n",
    "import json #解析json数据\n",
    "import jsonpath #提取json数据\n",
    "import pandas as pd #导入pandas库\n",
    "import numpy as np\n",
    "import pickle"
   ]
  },
  {
   "cell_type": "code",
   "execution_count": 2,
   "metadata": {},
   "outputs": [
    {
     "data": {
      "text/html": [
       "<div>\n",
       "<style scoped>\n",
       "    .dataframe tbody tr th:only-of-type {\n",
       "        vertical-align: middle;\n",
       "    }\n",
       "\n",
       "    .dataframe tbody tr th {\n",
       "        vertical-align: top;\n",
       "    }\n",
       "\n",
       "    .dataframe thead th {\n",
       "        text-align: right;\n",
       "    }\n",
       "</style>\n",
       "<table border=\"1\" class=\"dataframe\">\n",
       "  <thead>\n",
       "    <tr style=\"text-align: right;\">\n",
       "      <th></th>\n",
       "      <th>Unnamed: 0</th>\n",
       "      <th>stationID</th>\n",
       "      <th>lon</th>\n",
       "      <th>lat</th>\n",
       "      <th>name</th>\n",
       "      <th>includeStation</th>\n",
       "      <th>neighborStation</th>\n",
       "    </tr>\n",
       "  </thead>\n",
       "  <tbody>\n",
       "    <tr>\n",
       "      <th>0</th>\n",
       "      <td>0</td>\n",
       "      <td>2048</td>\n",
       "      <td>121.439716</td>\n",
       "      <td>31.171622</td>\n",
       "      <td>龙漕路</td>\n",
       "      <td>[313, 1228]</td>\n",
       "      <td>[312, 314, 2012, 2038]</td>\n",
       "    </tr>\n",
       "    <tr>\n",
       "      <th>1</th>\n",
       "      <td>1</td>\n",
       "      <td>2049</td>\n",
       "      <td>121.527849</td>\n",
       "      <td>31.224457</td>\n",
       "      <td>浦电路</td>\n",
       "      <td>[418, 631]</td>\n",
       "      <td>[2010, 2015]</td>\n",
       "    </tr>\n",
       "    <tr>\n",
       "      <th>2</th>\n",
       "      <td>2</td>\n",
       "      <td>2050</td>\n",
       "      <td>121.441840</td>\n",
       "      <td>31.225058</td>\n",
       "      <td>静安寺</td>\n",
       "      <td>[243, 739]</td>\n",
       "      <td>[2041, 738, 2017, 2054]</td>\n",
       "    </tr>\n",
       "    <tr>\n",
       "      <th>3</th>\n",
       "      <td>3</td>\n",
       "      <td>2051</td>\n",
       "      <td>121.422616</td>\n",
       "      <td>31.188487</td>\n",
       "      <td>宜山路</td>\n",
       "      <td>[315, 402, 933]</td>\n",
       "      <td>[932, 2025, 2029, 314, 2044]</td>\n",
       "    </tr>\n",
       "    <tr>\n",
       "      <th>4</th>\n",
       "      <td>4</td>\n",
       "      <td>2052</td>\n",
       "      <td>121.552971</td>\n",
       "      <td>31.205156</td>\n",
       "      <td>龙阳路</td>\n",
       "      <td>[252, 752, 1621]</td>\n",
       "      <td>[751, 753, 1622, 251, 253]</td>\n",
       "    </tr>\n",
       "    <tr>\n",
       "      <th>...</th>\n",
       "      <td>...</td>\n",
       "      <td>...</td>\n",
       "      <td>...</td>\n",
       "      <td>...</td>\n",
       "      <td>...</td>\n",
       "      <td>...</td>\n",
       "      <td>...</td>\n",
       "    </tr>\n",
       "    <tr>\n",
       "      <th>297</th>\n",
       "      <td>317</td>\n",
       "      <td>2043</td>\n",
       "      <td>121.412622</td>\n",
       "      <td>31.220079</td>\n",
       "      <td>中山公园</td>\n",
       "      <td>[241, 318, 405]</td>\n",
       "      <td>[240, 2046, 2009, 2054]</td>\n",
       "    </tr>\n",
       "    <tr>\n",
       "      <th>298</th>\n",
       "      <td>318</td>\n",
       "      <td>2044</td>\n",
       "      <td>121.416178</td>\n",
       "      <td>31.199283</td>\n",
       "      <td>虹桥路</td>\n",
       "      <td>[316, 403, 1049]</td>\n",
       "      <td>[1048, 2051, 2037, 2046]</td>\n",
       "    </tr>\n",
       "    <tr>\n",
       "      <th>299</th>\n",
       "      <td>319</td>\n",
       "      <td>509</td>\n",
       "      <td>121.415276</td>\n",
       "      <td>31.020130</td>\n",
       "      <td>东川路</td>\n",
       "      <td>NaN</td>\n",
       "      <td>[508, 510]</td>\n",
       "    </tr>\n",
       "    <tr>\n",
       "      <th>300</th>\n",
       "      <td>320</td>\n",
       "      <td>2046</td>\n",
       "      <td>121.412433</td>\n",
       "      <td>31.211456</td>\n",
       "      <td>延安西路</td>\n",
       "      <td>[317, 404]</td>\n",
       "      <td>[2043, 2044]</td>\n",
       "    </tr>\n",
       "    <tr>\n",
       "      <th>301</th>\n",
       "      <td>321</td>\n",
       "      <td>2047</td>\n",
       "      <td>121.485286</td>\n",
       "      <td>31.260925</td>\n",
       "      <td>海伦路</td>\n",
       "      <td>[412, 1059]</td>\n",
       "      <td>[1058, 1060, 413, 2030]</td>\n",
       "    </tr>\n",
       "  </tbody>\n",
       "</table>\n",
       "<p>302 rows × 7 columns</p>\n",
       "</div>"
      ],
      "text/plain": [
       "     Unnamed: 0  stationID         lon        lat  name    includeStation  \\\n",
       "0             0       2048  121.439716  31.171622   龙漕路       [313, 1228]   \n",
       "1             1       2049  121.527849  31.224457   浦电路        [418, 631]   \n",
       "2             2       2050  121.441840  31.225058   静安寺        [243, 739]   \n",
       "3             3       2051  121.422616  31.188487   宜山路   [315, 402, 933]   \n",
       "4             4       2052  121.552971  31.205156   龙阳路  [252, 752, 1621]   \n",
       "..          ...        ...         ...        ...   ...               ...   \n",
       "297         317       2043  121.412622  31.220079  中山公园   [241, 318, 405]   \n",
       "298         318       2044  121.416178  31.199283   虹桥路  [316, 403, 1049]   \n",
       "299         319        509  121.415276  31.020130   东川路               NaN   \n",
       "300         320       2046  121.412433  31.211456  延安西路        [317, 404]   \n",
       "301         321       2047  121.485286  31.260925   海伦路       [412, 1059]   \n",
       "\n",
       "                  neighborStation  \n",
       "0          [312, 314, 2012, 2038]  \n",
       "1                    [2010, 2015]  \n",
       "2         [2041, 738, 2017, 2054]  \n",
       "3    [932, 2025, 2029, 314, 2044]  \n",
       "4      [751, 753, 1622, 251, 253]  \n",
       "..                            ...  \n",
       "297       [240, 2046, 2009, 2054]  \n",
       "298      [1048, 2051, 2037, 2046]  \n",
       "299                    [508, 510]  \n",
       "300                  [2043, 2044]  \n",
       "301       [1058, 1060, 413, 2030]  \n",
       "\n",
       "[302 rows x 7 columns]"
      ]
     },
     "execution_count": 2,
     "metadata": {},
     "output_type": "execute_result"
    }
   ],
   "source": [
    "stationInfo = pd.read_csv('../../Metro/station_transInfo_cleaned.csv')\n",
    "stationInfo"
   ]
  },
  {
   "cell_type": "code",
   "execution_count": 3,
   "metadata": {},
   "outputs": [],
   "source": [
    "dict_staionName = dict(zip(stationInfo['stationID'], stationInfo['name']))\n",
    "dict_stationLoc = dict(zip(stationInfo['stationID'], zip(stationInfo['lon'],stationInfo['lat'])))\n",
    "stationID_List = list(stationInfo['stationID'])\n",
    "\n",
    "travelTime = np.zeros((len(stationID_List), len(stationID_List)))"
   ]
  },
  {
   "cell_type": "code",
   "execution_count": 4,
   "metadata": {},
   "outputs": [],
   "source": [
    "LBSkey = '5f4a9713e41c83183b72817fb3acb428'\n",
    "POIkey = '9ad58ff9754b6fe3c7e51f43c06f453f'\n",
    "mykey = 'd63d7e23659a45277696c954da708d42'"
   ]
  },
  {
   "cell_type": "code",
   "execution_count": 5,
   "metadata": {},
   "outputs": [
    {
     "data": {
      "text/plain": [
       "302"
      ]
     },
     "execution_count": 5,
     "metadata": {},
     "output_type": "execute_result"
    }
   ],
   "source": [
    "with open('TempData/dict_stationPOI.pkl', 'rb') as f:\n",
    "    dict_stationPOI = pickle.load(f)\n",
    "len(dict_stationPOI)"
   ]
  },
  {
   "cell_type": "code",
   "execution_count": 6,
   "metadata": {},
   "outputs": [
    {
     "data": {
      "text/plain": [
       "(112, 1163, 263)"
      ]
     },
     "execution_count": 6,
     "metadata": {},
     "output_type": "execute_result"
    }
   ],
   "source": [
    "dict_Name2ID = dict(zip(stationInfo['name'], stationInfo['stationID']))\n",
    "id1 = dict_Name2ID['外环路']\n",
    "id2 = dict_Name2ID['迪士尼']\n",
    "id3 = dict_Name2ID['浦东国际机场']\n",
    "id1, id2, id3\n"
   ]
  },
  {
   "cell_type": "markdown",
   "metadata": {},
   "source": [
    "这三个站点提取出的时间为空，怀疑是POI搞错了\n",
    "\n",
    "\n",
    "手动搜索并更正POI"
   ]
  },
  {
   "cell_type": "code",
   "execution_count": null,
   "metadata": {},
   "outputs": [],
   "source": [
    "stationID = id1 # 外环路\n",
    "url='https://restapi.amap.com/v3/place/text?'\n",
    "params = {\n",
    "    'key': mykey,\n",
    "    'keywords': \"外环路（地铁站）\",\n",
    "    'types':150000,\n",
    "    'location': str(dict_stationLoc[stationID][0])[:9] + ',' + str(dict_stationLoc[stationID][1])[:8],\n",
    "    'city':'021',\n",
    "}\n",
    "params = parse.urlencode(params)\n",
    "url = url + params\n",
    "#print(url)\n",
    "response = urllib.request.urlopen(url)\n",
    "content = response.read().decode('utf-8')\n",
    "data = json.loads(content)\n",
    "data"
   ]
  },
  {
   "cell_type": "code",
   "execution_count": null,
   "metadata": {},
   "outputs": [],
   "source": [
    "dict_stationPOI[id1]"
   ]
  },
  {
   "cell_type": "markdown",
   "metadata": {},
   "source": [
    "应为 BV10039895 而非 BV10035539，猜想得证"
   ]
  },
  {
   "cell_type": "code",
   "execution_count": null,
   "metadata": {},
   "outputs": [],
   "source": [
    "stationID = id2 # 迪士尼（地铁站）\n",
    "url='https://restapi.amap.com/v3/place/text?'\n",
    "params = {\n",
    "    'key': mykey,\n",
    "    'keywords': \"迪士尼（地铁站）\",\n",
    "    'types':150000,\n",
    "    'location': str(dict_stationLoc[stationID][0])[:9] + ',' + str(dict_stationLoc[stationID][1])[:8],\n",
    "    'city':'021',\n",
    "}\n",
    "params = parse.urlencode(params)\n",
    "url = url + params\n",
    "#print(url)\n",
    "response = urllib.request.urlopen(url)\n",
    "content = response.read().decode('utf-8')\n",
    "data = json.loads(content)\n",
    "data"
   ]
  },
  {
   "cell_type": "code",
   "execution_count": 14,
   "metadata": {},
   "outputs": [
    {
     "data": {
      "text/plain": [
       "{'suggestion': {'keywords': [], 'cities': []},\n",
       " 'count': '31',\n",
       " 'infocode': '10000',\n",
       " 'pois': [{'parent': [],\n",
       "   'address': '(在建)市域机场线后通段;2号线;市域机场线;磁悬浮',\n",
       "   'distance': [],\n",
       "   'pname': '上海市',\n",
       "   'importance': [],\n",
       "   'biz_ext': {'cost': [], 'rating': []},\n",
       "   'biz_type': [],\n",
       "   'cityname': '上海市',\n",
       "   'type': '交通设施服务;地铁站;地铁站',\n",
       "   'photos': [{'title': [],\n",
       "     'url': 'https://aos-comment.amap.com/BV09301412/comment/464C0ADD_28FC_4B86_A06A_9B4DAF3A9D61_L0_001_2016_1512_1735888170153_29251497.jpg'},\n",
       "    {'title': [],\n",
       "     'url': 'http://store.is.autonavi.com/showpic/e0df4ac1be5f5d72b5825beddc1cce84'},\n",
       "    {'title': [],\n",
       "     'url': 'https://aos-comment.amap.com/BV09301412/comment/DA58FF4A_1226_49D3_A377_6682C620CF4D_L0_001_1500_2000_1735888170154_43381585.jpg'}],\n",
       "   'typecode': '150500',\n",
       "   'shopinfo': '2',\n",
       "   'poiweight': [],\n",
       "   'childtype': [],\n",
       "   'adname': '浦东新区',\n",
       "   'name': '浦东1号2号航站楼(地铁站)',\n",
       "   'location': '121.805591,31.150958',\n",
       "   'tel': [],\n",
       "   'shopid': [],\n",
       "   'id': 'BV09301412'},\n",
       "  {'parent': [],\n",
       "   'address': '(在建)市域机场线后通段',\n",
       "   'distance': [],\n",
       "   'pname': '上海市',\n",
       "   'importance': [],\n",
       "   'biz_ext': {'cost': [], 'rating': []},\n",
       "   'biz_type': [],\n",
       "   'cityname': '上海市',\n",
       "   'type': '交通设施服务;地铁站;地铁站',\n",
       "   'photos': [],\n",
       "   'typecode': '150500',\n",
       "   'shopinfo': '2',\n",
       "   'poiweight': [],\n",
       "   'childtype': [],\n",
       "   'adname': '浦东新区',\n",
       "   'name': '浦东机场3号航站楼(地铁站)',\n",
       "   'location': '121.817888,31.118692',\n",
       "   'tel': [],\n",
       "   'shopid': [],\n",
       "   'id': 'BV11494198'},\n",
       "  {'parent': 'BV09301412',\n",
       "   'address': '市域机场线',\n",
       "   'distance': [],\n",
       "   'pname': '上海市',\n",
       "   'importance': [],\n",
       "   'biz_ext': {'cost': [], 'rating': []},\n",
       "   'biz_type': [],\n",
       "   'cityname': '上海市',\n",
       "   'type': '交通设施服务;地铁站;出入口',\n",
       "   'photos': [],\n",
       "   'typecode': '150501',\n",
       "   'shopinfo': '2',\n",
       "   'poiweight': [],\n",
       "   'childtype': '107',\n",
       "   'adname': '浦东新区',\n",
       "   'name': '浦东1号2号航站楼地铁站4号口',\n",
       "   'location': '121.805462,31.148703',\n",
       "   'tel': [],\n",
       "   'shopid': [],\n",
       "   'id': 'BX09914358'},\n",
       "  {'parent': 'BV09301412',\n",
       "   'address': '市域机场线',\n",
       "   'distance': [],\n",
       "   'pname': '上海市',\n",
       "   'importance': [],\n",
       "   'biz_ext': {'cost': [], 'rating': []},\n",
       "   'biz_type': [],\n",
       "   'cityname': '上海市',\n",
       "   'type': '交通设施服务;地铁站;出入口',\n",
       "   'photos': [],\n",
       "   'typecode': '150501',\n",
       "   'shopinfo': '2',\n",
       "   'poiweight': [],\n",
       "   'childtype': '107',\n",
       "   'adname': '浦东新区',\n",
       "   'name': '浦东1号2号航站楼地铁站5号口',\n",
       "   'location': '121.805709,31.149743',\n",
       "   'tel': [],\n",
       "   'shopid': [],\n",
       "   'id': 'BX09914357'},\n",
       "  {'parent': 'BV09301412',\n",
       "   'address': '市域机场线',\n",
       "   'distance': [],\n",
       "   'pname': '上海市',\n",
       "   'importance': [],\n",
       "   'biz_ext': {'cost': [], 'rating': []},\n",
       "   'biz_type': [],\n",
       "   'cityname': '上海市',\n",
       "   'type': '交通设施服务;地铁站;出入口',\n",
       "   'photos': [],\n",
       "   'typecode': '150501',\n",
       "   'shopinfo': '2',\n",
       "   'poiweight': [],\n",
       "   'childtype': '107',\n",
       "   'adname': '浦东新区',\n",
       "   'name': '浦东1号2号航站楼地铁站6号口',\n",
       "   'location': '121.805555,31.151534',\n",
       "   'tel': [],\n",
       "   'shopid': [],\n",
       "   'id': 'BX09914356'},\n",
       "  {'parent': 'BV09301412',\n",
       "   'address': '市域机场线',\n",
       "   'distance': [],\n",
       "   'pname': '上海市',\n",
       "   'importance': [],\n",
       "   'biz_ext': {'cost': [], 'rating': []},\n",
       "   'biz_type': [],\n",
       "   'cityname': '上海市',\n",
       "   'type': '交通设施服务;地铁站;出入口',\n",
       "   'photos': [],\n",
       "   'typecode': '150501',\n",
       "   'shopinfo': '2',\n",
       "   'poiweight': [],\n",
       "   'childtype': '107',\n",
       "   'adname': '浦东新区',\n",
       "   'name': '浦东1号2号航站楼地铁站1号口',\n",
       "   'location': '121.805500,31.150746',\n",
       "   'tel': [],\n",
       "   'shopid': [],\n",
       "   'id': 'BX09914248'},\n",
       "  {'parent': 'BV09301412',\n",
       "   'address': '市域机场线',\n",
       "   'distance': [],\n",
       "   'pname': '上海市',\n",
       "   'importance': [],\n",
       "   'biz_ext': {'cost': [], 'rating': []},\n",
       "   'biz_type': [],\n",
       "   'cityname': '上海市',\n",
       "   'type': '交通设施服务;地铁站;出入口',\n",
       "   'photos': [],\n",
       "   'typecode': '150501',\n",
       "   'shopinfo': '2',\n",
       "   'poiweight': [],\n",
       "   'childtype': '107',\n",
       "   'adname': '浦东新区',\n",
       "   'name': '浦东1号2号航站楼地铁站2号口',\n",
       "   'location': '121.805670,31.150308',\n",
       "   'tel': [],\n",
       "   'shopid': [],\n",
       "   'id': 'BX09914247'},\n",
       "  {'parent': 'BV09301412',\n",
       "   'address': '市域机场线',\n",
       "   'distance': [],\n",
       "   'pname': '上海市',\n",
       "   'importance': [],\n",
       "   'biz_ext': {'cost': [], 'rating': []},\n",
       "   'biz_type': [],\n",
       "   'cityname': '上海市',\n",
       "   'type': '交通设施服务;地铁站;出入口',\n",
       "   'photos': [],\n",
       "   'typecode': '150501',\n",
       "   'shopinfo': '2',\n",
       "   'poiweight': [],\n",
       "   'childtype': '107',\n",
       "   'adname': '浦东新区',\n",
       "   'name': '浦东1号2号航站楼地铁站3号口',\n",
       "   'location': '121.806004,31.149441',\n",
       "   'tel': [],\n",
       "   'shopid': [],\n",
       "   'id': 'BX09914246'},\n",
       "  {'parent': [],\n",
       "   'address': '(在建)南汇支线;(在建)市域机场线后通段',\n",
       "   'distance': [],\n",
       "   'pname': '上海市',\n",
       "   'importance': [],\n",
       "   'biz_ext': {'cost': [], 'rating': []},\n",
       "   'biz_type': [],\n",
       "   'cityname': '上海市',\n",
       "   'type': '交通设施服务;地铁站;地铁站',\n",
       "   'photos': [],\n",
       "   'typecode': '150500',\n",
       "   'shopinfo': '2',\n",
       "   'poiweight': [],\n",
       "   'childtype': [],\n",
       "   'adname': '浦东新区',\n",
       "   'name': '上海东站(地铁站)',\n",
       "   'location': '121.782830,31.111293',\n",
       "   'tel': [],\n",
       "   'shopid': [],\n",
       "   'id': 'BV11494195'},\n",
       "  {'parent': [],\n",
       "   'address': '(在建)21号线;市域机场线',\n",
       "   'distance': [],\n",
       "   'pname': '上海市',\n",
       "   'importance': [],\n",
       "   'biz_ext': {'cost': [], 'rating': []},\n",
       "   'biz_type': [],\n",
       "   'cityname': '上海市',\n",
       "   'type': '交通设施服务;地铁站;地铁站',\n",
       "   'photos': [{'title': [],\n",
       "     'url': 'http://store.is.autonavi.com/showpic/a5c532fb26cc2d68c835dcf468fbd547'},\n",
       "    {'title': [],\n",
       "     'url': 'https://aos-comment.amap.com/BV09301415/comment/content_media_external_images_media_1000004712_ss__1736061973358_72782937.jpg'},\n",
       "    {'title': [],\n",
       "     'url': 'https://aos-comment.amap.com/BV09301415/comment/2DEDFD3D_58E0_464C_9999_2EA92A8CE3DB_L0_001_2016_1512_1735458165648_91710909.jpg'}],\n",
       "   'typecode': '150500',\n",
       "   'shopinfo': '2',\n",
       "   'poiweight': [],\n",
       "   'childtype': [],\n",
       "   'adname': '浦东新区',\n",
       "   'name': '康桥东(地铁站)',\n",
       "   'location': '121.614894,31.146808',\n",
       "   'tel': [],\n",
       "   'shopid': [],\n",
       "   'id': 'BV09301415'},\n",
       "  {'parent': 'B0GR6508XC',\n",
       "   'address': '川沙路5533号嘉虹酒店(上海浦东机场川沙地铁站店)',\n",
       "   'distance': [],\n",
       "   'pname': '上海市',\n",
       "   'importance': [],\n",
       "   'biz_ext': {'cost': [], 'rating': []},\n",
       "   'biz_type': [],\n",
       "   'cityname': '上海市',\n",
       "   'type': '交通设施服务;停车场;公共停车场',\n",
       "   'parking_type': '地面',\n",
       "   'photos': [],\n",
       "   'typecode': '150904',\n",
       "   'shopinfo': '2',\n",
       "   'poiweight': [],\n",
       "   'childtype': '305',\n",
       "   'adname': '浦东新区',\n",
       "   'name': '嘉虹酒店上海浦东机场川沙地铁站店停车场',\n",
       "   'location': '121.700472,31.184340',\n",
       "   'tel': [],\n",
       "   'shopid': [],\n",
       "   'id': 'B0H0PCF1K1'},\n",
       "  {'parent': [],\n",
       "   'address': '市域机场线',\n",
       "   'distance': [],\n",
       "   'pname': '上海市',\n",
       "   'importance': [],\n",
       "   'biz_ext': {'cost': [], 'rating': []},\n",
       "   'biz_type': [],\n",
       "   'cityname': '上海市',\n",
       "   'type': '交通设施服务;地铁站;地铁站',\n",
       "   'photos': [{'title': [],\n",
       "     'url': 'http://store.is.autonavi.com/showpic/9a028c487d42f4c753e3e7a7e462fdbe'},\n",
       "    {'title': [],\n",
       "     'url': 'https://aos-comment.amap.com/BV09301413/comment/79759CCA_0B40_45DE_8327_6DB8F99D8EEF_L0_001_2000_1500_1735283942834_47171536.jpg'},\n",
       "    {'title': [],\n",
       "     'url': 'https://aos-comment.amap.com/BV09301413/comment/content_media_external_images_media_1000134338_ss__1735296535549_80916917.jpg'}],\n",
       "   'typecode': '150500',\n",
       "   'shopinfo': '2',\n",
       "   'poiweight': [],\n",
       "   'childtype': [],\n",
       "   'adname': '浦东新区',\n",
       "   'name': '上海国际旅游度假区(地铁站)',\n",
       "   'location': '121.679730,31.156182',\n",
       "   'tel': [],\n",
       "   'shopid': [],\n",
       "   'id': 'BV09301413'},\n",
       "  {'parent': [],\n",
       "   'address': '川沙路与新川路交叉口南80米',\n",
       "   'distance': [],\n",
       "   'pname': '上海市',\n",
       "   'importance': [],\n",
       "   'biz_ext': {'cost': [], 'rating': []},\n",
       "   'biz_type': [],\n",
       "   'cityname': '上海市',\n",
       "   'type': '交通设施服务;停车场;公共停车场',\n",
       "   'parking_type': '地面',\n",
       "   'photos': [{'title': [],\n",
       "     'url': 'http://store.is.autonavi.com/showpic/b6135e7b8546145b2b207c960eb8c786'}],\n",
       "   'typecode': '150904',\n",
       "   'shopinfo': '2',\n",
       "   'poiweight': [],\n",
       "   'childtype': [],\n",
       "   'adname': '浦东新区',\n",
       "   'name': '艾扉酒店(上海浦东机场新国际博览中心川沙地铁站店)地面停车场',\n",
       "   'location': '121.698321,31.192259',\n",
       "   'tel': [],\n",
       "   'shopid': [],\n",
       "   'id': 'B0I6JZ1S60'},\n",
       "  {'parent': 'BV09301415',\n",
       "   'address': '市域机场线',\n",
       "   'distance': [],\n",
       "   'pname': '上海市',\n",
       "   'importance': [],\n",
       "   'biz_ext': {'cost': [], 'rating': []},\n",
       "   'biz_type': [],\n",
       "   'cityname': '上海市',\n",
       "   'type': '交通设施服务;地铁站;出入口',\n",
       "   'photos': [],\n",
       "   'typecode': '150501',\n",
       "   'shopinfo': '2',\n",
       "   'poiweight': [],\n",
       "   'childtype': '107',\n",
       "   'adname': '浦东新区',\n",
       "   'name': '康桥东地铁站1号口',\n",
       "   'location': '121.616178,31.147161',\n",
       "   'tel': [],\n",
       "   'shopid': [],\n",
       "   'id': 'BX09914249'},\n",
       "  {'parent': 'BV09301415',\n",
       "   'address': '市域机场线',\n",
       "   'distance': [],\n",
       "   'pname': '上海市',\n",
       "   'importance': [],\n",
       "   'biz_ext': {'cost': [], 'rating': []},\n",
       "   'biz_type': [],\n",
       "   'cityname': '上海市',\n",
       "   'type': '交通设施服务;地铁站;出入口',\n",
       "   'photos': [{'title': [],\n",
       "     'url': 'http://store.is.autonavi.com/showpic/6bbfb0427b4b2463591815e16326d272'},\n",
       "    {'title': [],\n",
       "     'url': 'http://store.is.autonavi.com/showpic/8bab839db0e5487c092bb819a3132d90'}],\n",
       "   'typecode': '150501',\n",
       "   'shopinfo': '2',\n",
       "   'poiweight': [],\n",
       "   'childtype': '107',\n",
       "   'adname': '浦东新区',\n",
       "   'name': '康桥东地铁站3号口',\n",
       "   'location': '121.613422,31.146462',\n",
       "   'tel': [],\n",
       "   'shopid': [],\n",
       "   'id': 'BX09914250'},\n",
       "  {'parent': [],\n",
       "   'address': '(在建)19号线;市域机场线',\n",
       "   'distance': [],\n",
       "   'pname': '上海市',\n",
       "   'importance': [],\n",
       "   'biz_ext': {'cost': [], 'rating': []},\n",
       "   'biz_type': [],\n",
       "   'cityname': '上海市',\n",
       "   'type': '交通设施服务;地铁站;地铁站',\n",
       "   'photos': [{'title': [],\n",
       "     'url': 'https://aos-comment.amap.com/BV11494196/comment/content_media_external_images_media_1000002601_ss__1735399843229_42570474.jpg'},\n",
       "    {'title': [],\n",
       "     'url': 'https://aos-comment.amap.com/BV11494196/comment/content_media_external_images_media_1000013670_ss__1735305370552_88185424.jpg'},\n",
       "    {'title': [],\n",
       "     'url': 'https://aos-comment.amap.com/BV11494196/comment/content_media_external_images_media_100001110_1735127803615_47381869.jpg'}],\n",
       "   'typecode': '150500',\n",
       "   'shopinfo': '2',\n",
       "   'poiweight': [],\n",
       "   'childtype': [],\n",
       "   'adname': '浦东新区',\n",
       "   'name': '三林南(地铁站)',\n",
       "   'location': '121.486854,31.126039',\n",
       "   'tel': [],\n",
       "   'shopid': [],\n",
       "   'id': 'BV11494196'},\n",
       "  {'parent': 'B0H0PCF1K1',\n",
       "   'address': '嘉虹酒店上海浦东机场川沙地铁站店停车场',\n",
       "   'distance': [],\n",
       "   'pname': '上海市',\n",
       "   'importance': [],\n",
       "   'biz_ext': {'cost': [], 'rating': []},\n",
       "   'biz_type': [],\n",
       "   'cityname': '上海市',\n",
       "   'type': '交通设施服务;停车场;停车场出入口',\n",
       "   'photos': [],\n",
       "   'typecode': '150909',\n",
       "   'shopinfo': '2',\n",
       "   'poiweight': [],\n",
       "   'childtype': '108',\n",
       "   'adname': '浦东新区',\n",
       "   'name': '嘉虹酒店上海浦东机场川沙地铁站店停车场(出入口)',\n",
       "   'location': '121.700417,31.184243',\n",
       "   'tel': [],\n",
       "   'shopid': [],\n",
       "   'id': 'B0H0PCGBFY'},\n",
       "  {'parent': 'BV09301415',\n",
       "   'address': '市域机场线',\n",
       "   'distance': [],\n",
       "   'pname': '上海市',\n",
       "   'importance': [],\n",
       "   'biz_ext': {'cost': [], 'rating': []},\n",
       "   'biz_type': [],\n",
       "   'cityname': '上海市',\n",
       "   'type': '交通设施服务;地铁站;出入口',\n",
       "   'photos': [{'title': [],\n",
       "     'url': 'http://store.is.autonavi.com/showpic/c4a4e0e5b720dc2dceeade8bc365541a'},\n",
       "    {'title': [],\n",
       "     'url': 'http://store.is.autonavi.com/showpic/558429958b61038719f9769a4b98acba'},\n",
       "    {'title': [],\n",
       "     'url': 'http://store.is.autonavi.com/showpic/c097b3dfbb155e857a615028e068b02e'}],\n",
       "   'typecode': '150501',\n",
       "   'shopinfo': '2',\n",
       "   'poiweight': [],\n",
       "   'childtype': '107',\n",
       "   'adname': '浦东新区',\n",
       "   'name': '康桥东地铁站2号口',\n",
       "   'location': '121.616259,31.146742',\n",
       "   'tel': [],\n",
       "   'shopid': [],\n",
       "   'id': 'BX09913545'},\n",
       "  {'parent': 'BV09301415',\n",
       "   'address': '市域机场线',\n",
       "   'distance': [],\n",
       "   'pname': '上海市',\n",
       "   'importance': [],\n",
       "   'biz_ext': {'cost': [], 'rating': []},\n",
       "   'biz_type': [],\n",
       "   'cityname': '上海市',\n",
       "   'type': '交通设施服务;地铁站;出入口',\n",
       "   'photos': [{'title': [],\n",
       "     'url': 'http://store.is.autonavi.com/showpic/0a97406100d6d4d6cf4c2616c698838f'},\n",
       "    {'title': [],\n",
       "     'url': 'http://store.is.autonavi.com/showpic/678964d00ab676420bfd97cbd2acb6ae'},\n",
       "    {'title': [],\n",
       "     'url': 'http://store.is.autonavi.com/showpic/d87557b68b97f59359fba36fa90d1af1'}],\n",
       "   'typecode': '150501',\n",
       "   'shopinfo': '2',\n",
       "   'poiweight': [],\n",
       "   'childtype': '107',\n",
       "   'adname': '浦东新区',\n",
       "   'name': '康桥东地铁站4号口',\n",
       "   'location': '121.613554,31.146910',\n",
       "   'tel': [],\n",
       "   'shopid': [],\n",
       "   'id': 'BX09913544'},\n",
       "  {'parent': 'BV09301413',\n",
       "   'address': '市域机场线',\n",
       "   'distance': [],\n",
       "   'pname': '上海市',\n",
       "   'importance': [],\n",
       "   'biz_ext': {'cost': [], 'rating': []},\n",
       "   'biz_type': [],\n",
       "   'cityname': '上海市',\n",
       "   'type': '交通设施服务;地铁站;出入口',\n",
       "   'photos': [],\n",
       "   'typecode': '150501',\n",
       "   'shopinfo': '2',\n",
       "   'poiweight': [],\n",
       "   'childtype': '107',\n",
       "   'adname': '浦东新区',\n",
       "   'name': '上海国际旅游度假区地铁站2号口',\n",
       "   'location': '121.680716,31.156205',\n",
       "   'tel': [],\n",
       "   'shopid': [],\n",
       "   'id': 'BX09913316'}],\n",
       " 'status': '1',\n",
       " 'info': 'OK'}"
      ]
     },
     "execution_count": 14,
     "metadata": {},
     "output_type": "execute_result"
    }
   ],
   "source": [
    "stationID = id3 # \"浦东国际机场（地铁站）\n",
    "url='https://restapi.amap.com/v3/place/text?'\n",
    "params = {\n",
    "    'key': mykey,\n",
    "    'keywords': \"浦东国际机场（地铁站）\",\n",
    "    'types':150000,\n",
    "    'location': str(dict_stationLoc[stationID][0])[:9] + ',' + str(dict_stationLoc[stationID][1])[:8],\n",
    "    'city':'021',\n",
    "}\n",
    "params = parse.urlencode(params)\n",
    "url = url + params\n",
    "#print(url)\n",
    "response = urllib.request.urlopen(url)\n",
    "content = response.read().decode('utf-8')\n",
    "data = json.loads(content)\n",
    "data"
   ]
  },
  {
   "cell_type": "code",
   "execution_count": 15,
   "metadata": {},
   "outputs": [],
   "source": [
    "dict_stationPOI[id1] = 'BV10039895'\n",
    "dict_stationPOI[id2] = 'BV10681608'\n",
    "dict_stationPOI[id3] = 'BV09301412'"
   ]
  },
  {
   "cell_type": "code",
   "execution_count": 16,
   "metadata": {},
   "outputs": [],
   "source": [
    "with open('TempData/dict_stationPOI_Recorrect.pkl', 'wb') as f:\n",
    "    pickle.dump(dict_stationPOI, f)"
   ]
  },
  {
   "cell_type": "markdown",
   "metadata": {},
   "source": [
    "***"
   ]
  },
  {
   "cell_type": "code",
   "execution_count": 17,
   "metadata": {},
   "outputs": [],
   "source": [
    "def getTravelTime(origin_ID, destination_ID, originpoi, destinationpoi, dict_stationLoc):\n",
    "    url = 'https://restapi.amap.com/v5/direction/transit/integrated?'\n",
    "    params = {\n",
    "        'key': LBSkey,\n",
    "        'originpoi': originpoi,\n",
    "        'destinationpoi': destinationpoi,\n",
    "        'origin': str(dict_stationLoc[origin_ID][0])[:9] + ',' + str(dict_stationLoc[origin_ID][1])[:8],\n",
    "        'destination': str(dict_stationLoc[destination_ID][0])[:9] + ',' + str(dict_stationLoc[destination_ID][1])[:8],\n",
    "        'strategy': 6,\n",
    "        'nightflag': 0,\n",
    "        'date': '2017-08-31',\n",
    "        'city1': '021',\n",
    "        'city2': '021',\n",
    "        'show_fields': 'cost'\n",
    "    }\n",
    "    \n",
    "    params = parse.urlencode(params)\n",
    "    url = url + params\n",
    "    #print(url)\n",
    "    response = urllib.request.urlopen(url)\n",
    "    content = response.read().decode('utf-8')\n",
    "    data = json.loads(content)\n",
    "\n",
    "\n",
    "    return data"
   ]
  },
  {
   "cell_type": "code",
   "execution_count": 18,
   "metadata": {},
   "outputs": [
    {
     "name": "stderr",
     "output_type": "stream",
     "text": [
      "  0%|          | 0/302 [00:00<?, ?it/s]"
     ]
    },
    {
     "name": "stderr",
     "output_type": "stream",
     "text": [
      "  4%|▎         | 11/302 [11:20<4:57:10, 61.27s/it]"
     ]
    },
    {
     "name": "stdout",
     "output_type": "stream",
     "text": [
      "Problematic Station Pair: 虹桥1号航站楼 远东大道\n",
      "Problematic Station Pair: 虹桥1号航站楼 海天三路\n",
      "Problematic Station Pair: 虹桥1号航站楼 浦东国际机场\n"
     ]
    },
    {
     "name": "stderr",
     "output_type": "stream",
     "text": [
      "  4%|▍         | 12/302 [12:20<4:54:23, 60.91s/it]"
     ]
    },
    {
     "name": "stdout",
     "output_type": "stream",
     "text": [
      "Problematic Station Pair: 上海动物园 野生动物园\n"
     ]
    },
    {
     "name": "stderr",
     "output_type": "stream",
     "text": [
      "  4%|▍         | 13/302 [13:20<4:52:54, 60.81s/it]"
     ]
    },
    {
     "name": "stdout",
     "output_type": "stream",
     "text": [
      "Problematic Station Pair: 龙溪路 海天三路\n",
      "Problematic Station Pair: 龙溪路 浦东国际机场\n"
     ]
    },
    {
     "name": "stderr",
     "output_type": "stream",
     "text": [
      " 18%|█▊        | 53/302 [50:42<3:41:42, 53.42s/it]"
     ]
    },
    {
     "name": "stdout",
     "output_type": "stream",
     "text": [
      "Problematic Station Pair: 龙柏新村 浦东国际机场\n"
     ]
    },
    {
     "name": "stderr",
     "output_type": "stream",
     "text": [
      " 22%|██▏       | 66/302 [1:01:36<3:13:56, 49.31s/it]"
     ]
    },
    {
     "name": "stdout",
     "output_type": "stream",
     "text": [
      "Problematic Station Pair: 上海西站 浦东国际机场\n"
     ]
    },
    {
     "name": "stderr",
     "output_type": "stream",
     "text": [
      " 30%|██▉       | 90/302 [1:20:11<2:38:58, 44.99s/it]"
     ]
    },
    {
     "name": "stdout",
     "output_type": "stream",
     "text": [
      "Problematic Station Pair: 丰庄 浦东国际机场\n"
     ]
    },
    {
     "name": "stderr",
     "output_type": "stream",
     "text": [
      " 33%|███▎      | 99/302 [1:26:37<2:23:26, 42.40s/it]"
     ]
    },
    {
     "name": "stdout",
     "output_type": "stream",
     "text": [
      "Problematic Station Pair: 水城路 海天三路\n",
      "Problematic Station Pair: 水城路 浦东国际机场\n"
     ]
    },
    {
     "name": "stderr",
     "output_type": "stream",
     "text": [
      " 35%|███▌      | 107/302 [1:32:05<2:12:35, 40.80s/it]"
     ]
    },
    {
     "name": "stdout",
     "output_type": "stream",
     "text": [
      "Problematic Station Pair: 桂林公园 海天三路\n"
     ]
    },
    {
     "name": "stderr",
     "output_type": "stream",
     "text": [
      " 45%|████▌     | 136/302 [1:50:15<1:37:01, 35.07s/it]"
     ]
    },
    {
     "name": "stdout",
     "output_type": "stream",
     "text": [
      "Problematic Station Pair: 金运路 浦东国际机场\n"
     ]
    },
    {
     "name": "stderr",
     "output_type": "stream",
     "text": [
      " 45%|████▌     | 137/302 [1:50:50<1:35:44, 34.81s/it]"
     ]
    },
    {
     "name": "stdout",
     "output_type": "stream",
     "text": [
      "Problematic Station Pair: 上海游泳馆 浦东国际机场\n"
     ]
    },
    {
     "name": "stderr",
     "output_type": "stream",
     "text": [
      " 49%|████▉     | 149/302 [1:57:26<1:22:36, 32.39s/it]"
     ]
    },
    {
     "name": "stdout",
     "output_type": "stream",
     "text": [
      "Problematic Station Pair: 川沙 中春路\n"
     ]
    },
    {
     "name": "stderr",
     "output_type": "stream",
     "text": [
      " 50%|████▉     | 150/302 [1:57:58<1:21:39, 32.24s/it]"
     ]
    },
    {
     "name": "stdout",
     "output_type": "stream",
     "text": [
      "Problematic Station Pair: 凌空路 中春路\n",
      "Problematic Station Pair: 凌空路 虹桥2号航站楼\n"
     ]
    },
    {
     "name": "stderr",
     "output_type": "stream",
     "text": [
      " 50%|█████     | 151/302 [1:58:29<1:20:41, 32.07s/it]"
     ]
    },
    {
     "name": "stdout",
     "output_type": "stream",
     "text": [
      "Problematic Station Pair: 远东大道 松江南站\n",
      "Problematic Station Pair: 远东大道 醉白池\n",
      "Problematic Station Pair: 远东大道 松江体育中心\n",
      "Problematic Station Pair: 远东大道 松江新城\n",
      "Problematic Station Pair: 远东大道 松江大学城\n",
      "Problematic Station Pair: 远东大道 佘山\n",
      "Problematic Station Pair: 远东大道 洞泾\n",
      "Problematic Station Pair: 远东大道 泗泾\n",
      "Problematic Station Pair: 远东大道 九亭\n",
      "Problematic Station Pair: 远东大道 中春路\n",
      "Problematic Station Pair: 远东大道 七宝\n",
      "Problematic Station Pair: 远东大道 虹桥2号航站楼\n"
     ]
    },
    {
     "name": "stderr",
     "output_type": "stream",
     "text": [
      " 50%|█████     | 152/302 [1:59:01<1:19:57, 31.98s/it]"
     ]
    },
    {
     "name": "stdout",
     "output_type": "stream",
     "text": [
      "Problematic Station Pair: 海天三路 漕河泾开发区\n",
      "Problematic Station Pair: 海天三路 松江南站\n",
      "Problematic Station Pair: 海天三路 醉白池\n",
      "Problematic Station Pair: 海天三路 松江体育中心\n",
      "Problematic Station Pair: 海天三路 松江新城\n",
      "Problematic Station Pair: 海天三路 松江大学城\n",
      "Problematic Station Pair: 海天三路 佘山\n",
      "Problematic Station Pair: 海天三路 星中路\n",
      "Problematic Station Pair: 海天三路 合川路\n",
      "Problematic Station Pair: 海天三路 洞泾\n",
      "Problematic Station Pair: 海天三路 泗泾\n",
      "Problematic Station Pair: 海天三路 九亭\n",
      "Problematic Station Pair: 海天三路 七宝\n",
      "Problematic Station Pair: 海天三路 虹桥2号航站楼\n",
      "Problematic Station Pair: 海天三路 虹桥火车站\n",
      "Problematic Station Pair: 海天三路 上海南站\n"
     ]
    },
    {
     "name": "stderr",
     "output_type": "stream",
     "text": [
      " 51%|█████     | 153/302 [1:59:32<1:18:23, 31.57s/it]"
     ]
    },
    {
     "name": "stdout",
     "output_type": "stream",
     "text": [
      "Problematic Station Pair: 浦东国际机场 大渡河路\n",
      "Problematic Station Pair: 浦东国际机场 漕溪路\n",
      "Problematic Station Pair: 浦东国际机场 漕河泾开发区\n",
      "Problematic Station Pair: 浦东国际机场 桂林路\n",
      "Problematic Station Pair: 浦东国际机场 临平路\n",
      "Problematic Station Pair: 浦东国际机场 合川路\n",
      "Problematic Station Pair: 浦东国际机场 交通大学\n",
      "Problematic Station Pair: 浦东国际机场 紫藤路\n",
      "Problematic Station Pair: 浦东国际机场 徐家汇\n",
      "Problematic Station Pair: 浦东国际机场 上海体育馆\n",
      "Problematic Station Pair: 浦东国际机场 航中路\n"
     ]
    },
    {
     "name": "stderr",
     "output_type": "stream",
     "text": [
      " 62%|██████▏   | 188/302 [2:15:21<45:13, 23.80s/it]  "
     ]
    },
    {
     "name": "stdout",
     "output_type": "stream",
     "text": [
      "Problematic Station Pair: 大世界 老西门\n"
     ]
    },
    {
     "name": "stderr",
     "output_type": "stream",
     "text": [
      " 73%|███████▎  | 220/302 [2:26:09<23:50, 17.44s/it]"
     ]
    },
    {
     "name": "stdout",
     "output_type": "stream",
     "text": [
      "Problematic Station Pair: 松江南站 松江大学城\n"
     ]
    },
    {
     "name": "stderr",
     "output_type": "stream",
     "text": [
      "100%|██████████| 302/302 [2:37:35<00:00, 31.31s/it]"
     ]
    },
    {
     "name": "stdout",
     "output_type": "stream",
     "text": [
      "Successfully get all travel time & distance\n"
     ]
    },
    {
     "name": "stderr",
     "output_type": "stream",
     "text": [
      "\n"
     ]
    }
   ],
   "source": [
    "from tqdm import tqdm\n",
    "\n",
    "with open('TempData/dict_stationPOI_Recorrect.pkl', 'rb') as f:\n",
    "    dict_stationPOI = pickle.load(f)\n",
    "    \n",
    "problematic_stationPair = []\n",
    "travelTime = np.zeros((len(stationID_List), len(stationID_List)))\n",
    "travelDis = np.zeros((len(stationID_List), len(stationID_List)))\n",
    "\n",
    "# Route Planning\n",
    "for i in tqdm(range(len(stationID_List))):\n",
    "    for j in range(i, len(stationID_List)):\n",
    "        if i==j:\n",
    "            continue\n",
    "        origin_ID = stationID_List[i]\n",
    "        destination_ID = stationID_List[j]\n",
    "      \n",
    "        origin_POI = dict_stationPOI[origin_ID]\n",
    "        destination_POI = dict_stationPOI[destination_ID]\n",
    "        TravelPlanFeedback = getTravelTime(origin_ID, destination_ID, origin_POI, destination_POI, dict_stationLoc)\n",
    "\n",
    "        if TravelPlanFeedback['status'] == '1': # 抓取成功\n",
    "            duration_pool = []   \n",
    "            for travelPlan  in TravelPlanFeedback['route']['transits']:\n",
    "                duration_pool.append(travelPlan['cost']['duration'])\n",
    "            if len(duration_pool) != 0:  # 成功找到路径\n",
    "                min_duration = min(duration_pool)\n",
    "                idx = duration_pool.index(min_duration)\n",
    "                travelTime[i][j] = min_duration\n",
    "                travelTime[j][i] = min_duration\n",
    "                distance = TravelPlanFeedback['route']['transits'][idx]['distance']\n",
    "                travelDis[i][j] = distance\n",
    "                travelDis[j][i] = distance\n",
    "\n",
    "            else: # 未找到路径\n",
    "                problematic_stationPair.append((origin_ID, destination_ID))\n",
    "                print('Problematic Station Pair:', dict_staionName[origin_ID], dict_staionName[destination_ID])\n",
    "                travelTime[i][j]=-1\n",
    "                travelTime[j][i]=-1\n",
    "                \n",
    "        else: #抓取失败\n",
    "            problematic_stationPair.append((origin_ID, destination_ID))\n",
    "            print('Problematic Station Pair:', dict_staionName[origin_ID], dict_staionName[destination_ID])\n",
    "            travelTime[i][j]=-1\n",
    "            travelTime[j][i]=-1\n",
    "\n",
    "print('Successfully get all travel time & distance')\n",
    "\n",
    "with open('TempData/travelTime.pkl', 'wb') as f:\n",
    "    pickle.dump(travelTime, f)\n",
    "\n",
    "with open('TempData/travelDis.pkl', 'wb') as f:\n",
    "    pickle.dump(travelDis, f)\n",
    "\n",
    "with open('TempData/problematic_stationPair.pkl', 'wb') as f:   \n",
    "    pickle.dump(problematic_stationPair, f)"
   ]
  },
  {
   "cell_type": "code",
   "execution_count": 19,
   "metadata": {},
   "outputs": [
    {
     "name": "stdout",
     "output_type": "stream",
     "text": [
      "[[   0. 2384. 1406. ... 2961.  984. 1980.]\n",
      " [2384.    0. 1496. ... 4785. 2489. 1601.]\n",
      " [1406. 1496.    0. ... 3658. 1192. 1216.]\n",
      " ...\n",
      " [2961. 4785. 3658. ...    0. 3716. 4823.]\n",
      " [ 984. 2489. 1192. ... 3716.    0. 1601.]\n",
      " [1980. 1601. 1216. ... 4823. 1601.    0.]]\n"
     ]
    }
   ],
   "source": [
    "print(travelTime)"
   ]
  },
  {
   "cell_type": "code",
   "execution_count": 21,
   "metadata": {},
   "outputs": [
    {
     "name": "stdout",
     "output_type": "stream",
     "text": [
      "58\n",
      "[(1043, 261), (1043, 262), (1043, 263), (1044, 1628), (1045, 262), (1045, 263), (1020, 263), (1142, 263), (1323, 263), (1046, 262), (1046, 263), (1226, 262), (1321, 263), (1150, 263), (259, 927), (260, 927), (260, 2013), (261, 918), (261, 919), (261, 920), (261, 921), (261, 922), (261, 924), (261, 923), (261, 925), (261, 926), (261, 927), (261, 928), (261, 2013), (262, 931), (262, 918), (262, 919), (262, 920), (262, 921), (262, 922), (262, 924), (262, 929), (262, 930), (262, 923), (262, 925), (262, 926), (262, 928), (262, 2013), (262, 2014), (262, 2027), (263, 1326), (263, 314), (263, 931), (263, 932), (263, 413), (263, 930), (263, 2037), (263, 1019), (263, 2025), (263, 2029), (263, 1018), (834, 2008), (918, 922)]\n",
      "0.0006359370203061269\n"
     ]
    }
   ],
   "source": [
    "print(len(problematic_stationPair))\n",
    "print(problematic_stationPair)\n",
    "print( len(problematic_stationPair)/len(stationID_List)/len(stationID_List) )"
   ]
  }
 ],
 "metadata": {
  "kernelspec": {
   "display_name": "base",
   "language": "python",
   "name": "base"
  },
  "language_info": {
   "codemirror_mode": {
    "name": "ipython",
    "version": 3
   },
   "file_extension": ".py",
   "mimetype": "text/x-python",
   "name": "python",
   "nbconvert_exporter": "python",
   "pygments_lexer": "ipython3",
   "version": "3.11.7"
  }
 },
 "nbformat": 4,
 "nbformat_minor": 2
}
