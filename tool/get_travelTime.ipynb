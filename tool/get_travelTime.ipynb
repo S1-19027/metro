{
 "cells": [
  {
   "cell_type": "markdown",
   "metadata": {},
   "source": [
    "原始数据中一条交易只有一个交易时间，也就是出站时间\n",
    "\n",
    "采用高德地图API查询站点之间的旅行时间（静态）"
   ]
  },
  {
   "cell_type": "code",
   "execution_count": 59,
   "metadata": {},
   "outputs": [],
   "source": [
    "import urllib.request #发送请求\n",
    "from urllib import parse #URL编码\n",
    "import json #解析json数据\n",
    "import jsonpath #提取json数据\n",
    "import pandas as pd #导入pandas库\n",
    "import numpy as np\n",
    "import pickle"
   ]
  },
  {
   "cell_type": "code",
   "execution_count": null,
   "metadata": {},
   "outputs": [],
   "source": [
    "stationInfo = pd.read_csv('../../Metro/station_transInfo_cleaned.csv')\n",
    "stationInfo"
   ]
  },
  {
   "cell_type": "code",
   "execution_count": 61,
   "metadata": {},
   "outputs": [],
   "source": [
    "dict_staionName = dict(zip(stationInfo['stationID'], stationInfo['name']))\n",
    "dict_stationLoc = dict(zip(stationInfo['stationID'], zip(stationInfo['lon'],stationInfo['lat'])))\n",
    "stationID_List = list(stationInfo['stationID'])\n",
    "\n",
    "travelTime = np.zeros((len(stationID_List), len(stationID_List)))"
   ]
  },
  {
   "cell_type": "code",
   "execution_count": 62,
   "metadata": {},
   "outputs": [],
   "source": [
    "LBSkey = '5f4a9713e41c83183b72817fb3acb428'\n",
    "POIkey = '9ad58ff9754b6fe3c7e51f43c06f453f'\n",
    "mykey = 'd63d7e23659a45277696c954da708d42'"
   ]
  },
  {
   "cell_type": "markdown",
   "metadata": {},
   "source": [
    "***\n",
    "I/O Demo"
   ]
  },
  {
   "cell_type": "code",
   "execution_count": null,
   "metadata": {},
   "outputs": [],
   "source": [
    "# Test for 路径规划2.0（地铁图模式）\n",
    "origin_ID = 2048 \n",
    "destination_ID = 2049\n",
    "\n",
    "# 获取 POI\n",
    "def getPOI(stationID, dict_staionName):\n",
    "    url = 'https://restapi.amap.com/v5/place/text?'\n",
    "    params = {\n",
    "        'key': POIkey,\n",
    "        'keywords': dict_staionName[stationID],\n",
    "        'types':150500,\n",
    "        'location': str(dict_stationLoc[stationID][0])[:9] + ',' + str(dict_stationLoc[stationID][1])[:8],\n",
    "    }\n",
    "\n",
    "    params = parse.urlencode(params)\n",
    "    url = url + params\n",
    "    #print(url)\n",
    "    response = urllib.request.urlopen(url)\n",
    "    content = response.read().decode('utf-8')\n",
    "    data = json.loads(content)\n",
    "    return data\n",
    "\n",
    "origin_POI = getPOI(origin_ID, dict_staionName)['pois'][0]['id']\n",
    "destination_POI = getPOI(destination_ID, dict_staionName)['pois'][0]['id']\n",
    "print(origin_POI, destination_POI)"
   ]
  },
  {
   "cell_type": "code",
   "execution_count": 56,
   "metadata": {},
   "outputs": [],
   "source": [
    "# origin = str(dict_stationLoc[origin_ID][0])+','+ str(dict_stationLoc[origin_ID][1])\n",
    "# destination = str(dict_stationLoc[destination_ID][0])+','+ str(dict_stationLoc[destination_ID][1])\n",
    "\n",
    "# 获取地铁旅行时间\n",
    "def getTravelTime(origin_ID, destination_ID, originpoi, destinationpoi, dict_stationLoc):\n",
    "    url = 'https://restapi.amap.com/v5/direction/transit/integrated?'\n",
    "    params = {\n",
    "        'key': LBSkey,\n",
    "        'originpoi': originpoi,\n",
    "        'destinationpoi': destinationpoi,\n",
    "        'origin': str(dict_stationLoc[origin_ID][0])[:9] + ',' + str(dict_stationLoc[origin_ID][1])[:8],\n",
    "        'destination': str(dict_stationLoc[destination_ID][0])[:9] + ',' + str(dict_stationLoc[destination_ID][1])[:8],\n",
    "        'strategy': 6,\n",
    "        'nightflag': 0,\n",
    "        'date': '2017-08-31',\n",
    "        'city1': '021',\n",
    "        'city2': '021',\n",
    "        'show_fields': 'cost'\n",
    "    }\n",
    "    \n",
    "    params = parse.urlencode(params)\n",
    "    url = url + params\n",
    "    #print(url)\n",
    "    response = urllib.request.urlopen(url)\n",
    "    content = response.read().decode('utf-8')\n",
    "    data = json.loads(content)\n",
    "\n",
    "\n",
    "    return data\n",
    "        \n",
    "TravelPlandata = getTravelTime(origin_ID, destination_ID, origin_POI, destination_POI, dict_stationLoc)"
   ]
  },
  {
   "cell_type": "code",
   "execution_count": null,
   "metadata": {},
   "outputs": [],
   "source": [
    "if TravelPlandata['status'] == '1':\n",
    "    print('成功')\n",
    "    print('共有方案数量：', len(TravelPlandata['route']['transits']), '个') # TravelPlandata['Count']\n",
    "    #print('预计距离：', TravelPlandata['route']['transits'][0]['distance'], '米')\n",
    "\n",
    "print(json.dumps(TravelPlandata, indent=4, ensure_ascii=False))"
   ]
  },
  {
   "cell_type": "code",
   "execution_count": null,
   "metadata": {},
   "outputs": [],
   "source": [
    "# 如果有多个路线，选择时间最少的方案\n",
    "duration_pool = []\n",
    "for travelPlan in TravelPlandata['route']['transits']:\n",
    "    duration_pool.append(travelPlan['cost']['duration'])\n",
    "min_duration = min(duration_pool)\n",
    "print( '最短时间：', min_duration, '秒')"
   ]
  },
  {
   "cell_type": "markdown",
   "metadata": {},
   "source": [
    "***\n",
    "Debug: 用高德 POI 2.0 会有三个站的POI无法获取，转用1.0"
   ]
  },
  {
   "cell_type": "code",
   "execution_count": null,
   "metadata": {},
   "outputs": [],
   "source": [
    "# Test for 路径规划2.0（地铁图模式）\n",
    "origin_ID = 2048 \n",
    "destination_ID = 2049 \n",
    "\n",
    "# 获取 POI\n",
    "def getPOIV3(stationID, dict_staionName):\n",
    "    url='https://restapi.amap.com/v3/place/text?'\n",
    "    params = {\n",
    "        'key': POIkey,\n",
    "        'keywords': dict_staionName[stationID],\n",
    "        'types':150500,\n",
    "        'location': str(dict_stationLoc[stationID][0])[:9] + ',' + str(dict_stationLoc[stationID][1])[:8],\n",
    "        'city':'021',\n",
    "        \n",
    "    }\n",
    "\n",
    "    params = parse.urlencode(params)\n",
    "    url = url + params\n",
    "    #print(url)\n",
    "    response = urllib.request.urlopen(url)\n",
    "    content = response.read().decode('utf-8')\n",
    "    data = json.loads(content)\n",
    "    return data\n",
    "\n",
    "origin_POI = getPOIV3(origin_ID, dict_staionName)['pois'][0]['id']\n",
    "destination_POI = getPOIV3(destination_ID, dict_staionName)['pois'][0]['id']\n",
    "print(origin_POI, destination_POI)"
   ]
  },
  {
   "cell_type": "markdown",
   "metadata": {},
   "source": [
    "***\n",
    "### 批处理"
   ]
  },
  {
   "cell_type": "code",
   "execution_count": null,
   "metadata": {},
   "outputs": [],
   "source": [
    "from tqdm import tqdm\n",
    "\n",
    "dict_stationPOI={}\n",
    "for i in tqdm(range(len(stationID_List))):\n",
    "    staionID = stationID_List[i]\n",
    "    POIFeedback = getPOIV3(staionID, dict_staionName)\n",
    "    assert POIFeedback['status'] == '1'\n",
    "    if len(POIFeedback['pois']) == 0:\n",
    "        print('Null POI for station:', dict_staionName[staionID])\n",
    "        continue\n",
    "    dict_stationPOI[staionID] = POIFeedback['pois'][0]['id']\n",
    "print('Successfully get all POIs')\n"
   ]
  },
  {
   "cell_type": "code",
   "execution_count": 32,
   "metadata": {},
   "outputs": [],
   "source": [
    "# 先保存已有的POI，再想办法解决 剩下这三个\n",
    "with open('TempData/dict_stationPOI.pkl', 'wb') as f:\n",
    "    pickle.dump(dict_stationPOI, f)"
   ]
  },
  {
   "cell_type": "code",
   "execution_count": null,
   "metadata": {},
   "outputs": [],
   "source": [
    "problematic_stationID = [1631,1226,1241] # 书院站，桂林公园，江浦公园\n",
    "stationID = 1631 # 书院站\n",
    "url='https://restapi.amap.com/v3/place/text?'\n",
    "params = {\n",
    "    'key': mykey,\n",
    "    'keywords': \"书院地铁站\",\n",
    "    'types':150000,\n",
    "    'location': str(dict_stationLoc[stationID][0])[:9] + ',' + str(dict_stationLoc[stationID][1])[:8],\n",
    "    'city':'021',\n",
    "}\n",
    "params = parse.urlencode(params)\n",
    "url = url + params\n",
    "#print(url)\n",
    "response = urllib.request.urlopen(url)\n",
    "content = response.read().decode('utf-8')\n",
    "data = json.loads(content)\n",
    "\n",
    "data"
   ]
  },
  {
   "cell_type": "code",
   "execution_count": null,
   "metadata": {},
   "outputs": [],
   "source": [
    "problematic_stationID = [1631,1226,1241] # 书院站，桂林公园，江浦公园\n",
    "stationID = 1226 # 桂林公园\n",
    "url='https://restapi.amap.com/v3/place/text?'\n",
    "params = {\n",
    "    'key': mykey,\n",
    "    'keywords': \"桂林公园（地铁站）\",\n",
    "    'types':150000,\n",
    "    'location': str(dict_stationLoc[stationID][0])[:9] + ',' + str(dict_stationLoc[stationID][1])[:8],\n",
    "    'city':'021',\n",
    "}\n",
    "params = parse.urlencode(params)\n",
    "url = url + params\n",
    "#print(url)\n",
    "response = urllib.request.urlopen(url)\n",
    "content = response.read().decode('utf-8')\n",
    "data = json.loads(content)\n",
    "\n",
    "data"
   ]
  },
  {
   "cell_type": "code",
   "execution_count": null,
   "metadata": {},
   "outputs": [],
   "source": [
    "problematic_stationID = [1631,1226,1241] # 书院站，桂林公园，江浦公园\n",
    "stationID = 1241 # 江浦公园\n",
    "url='https://restapi.amap.com/v3/place/text?'\n",
    "params = {\n",
    "    'key': mykey,\n",
    "    'keywords': \"江浦公园（地铁站）\",\n",
    "    'types':150000,\n",
    "    'location': str(dict_stationLoc[stationID][0])[:9] + ',' + str(dict_stationLoc[stationID][1])[:8],\n",
    "    'city':'021',\n",
    "}\n",
    "params = parse.urlencode(params)\n",
    "url = url + params\n",
    "#print(url)\n",
    "response = urllib.request.urlopen(url)\n",
    "content = response.read().decode('utf-8')\n",
    "data = json.loads(content)\n",
    "data"
   ]
  },
  {
   "cell_type": "code",
   "execution_count": null,
   "metadata": {},
   "outputs": [],
   "source": [
    "# 本质上因为关键词对应POI不唯一\n",
    "dict_stationPOI[1631] = 'BV10027135'\n",
    "dict_stationPOI[1226] = 'BV10024842'\n",
    "dict_stationPOI[1241] = 'BV10039930'\n",
    "\n",
    "print(len(dict_stationPOI))\n",
    "with open('TempData/dict_stationPOI.pkl', 'wb') as f:\n",
    "    pickle.dump(dict_stationPOI, f)"
   ]
  },
  {
   "cell_type": "code",
   "execution_count": null,
   "metadata": {},
   "outputs": [],
   "source": [
    "with open('TempData/dict_stationPOI.pkl', 'rb') as f:\n",
    "    dict_stationPOI = pickle.load(f)\n",
    "    \n",
    "problematic_stationPair = []\n",
    "\n",
    "# Route Planning\n",
    "for i in tqdm(range(len(stationID_List))):\n",
    "    for j in range(i, len(stationID_List)):\n",
    "        if i==j:\n",
    "            continue\n",
    "        origin_ID = stationID_List[i]\n",
    "        destination_ID = stationID_List[j]\n",
    "      \n",
    "        origin_POI = dict_stationPOI[origin_ID]\n",
    "        destination_POI = dict_stationPOI[destination_ID]\n",
    "        TravelPlanFeedback = getTravelTime(origin_ID, destination_ID, origin_POI, destination_POI, dict_stationLoc)\n",
    "\n",
    "        if TravelPlanFeedback['status'] == '1': # 抓取成功\n",
    "            duration_pool = []   \n",
    "            for travelPlan  in TravelPlanFeedback['route']['transits']:\n",
    "                duration_pool.append(travelPlan['cost']['duration'])\n",
    "            if len(duration_pool) != 0:  # 成功找到路径\n",
    "                min_duration = min(duration_pool)\n",
    "                travelTime[i][j] = min_duration\n",
    "                travelTime[j][i] = min_duration\n",
    "            else: # 未找到路径\n",
    "                problematic_stationPair.append((origin_ID, destination_ID))\n",
    "                print('Problematic Station Pair:', dict_staionName[origin_ID], dict_staionName[destination_ID])\n",
    "                travelTime[i][j]=-1\n",
    "                travelTime[j][i]=-1\n",
    "               \n",
    "        else:\n",
    "            problematic_stationPair.append((origin_ID, destination_ID))\n",
    "            print('Problematic Station Pair:', dict_staionName[origin_ID], dict_staionName[destination_ID])\n",
    "            travelTime[i][j]=-1\n",
    "            travelTime[j][i]=-1\n",
    "\n",
    "print('Successfully get all travel time')"
   ]
  }
 ],
 "metadata": {
  "kernelspec": {
   "display_name": "base",
   "language": "python",
   "name": "base"
  },
  "language_info": {
   "codemirror_mode": {
    "name": "ipython",
    "version": 3
   },
   "file_extension": ".py",
   "mimetype": "text/x-python",
   "name": "python",
   "nbconvert_exporter": "python",
   "pygments_lexer": "ipython3",
   "version": "3.11.7"
  }
 },
 "nbformat": 4,
 "nbformat_minor": 2
}
