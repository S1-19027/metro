{
 "cells": [
  {
   "cell_type": "markdown",
   "metadata": {},
   "source": [
    "注意到1722-1733， 944-952 这些站点似乎没有访问数据"
   ]
  },
  {
   "cell_type": "code",
   "execution_count": 3,
   "metadata": {},
   "outputs": [
    {
     "data": {
      "text/plain": [
       "322"
      ]
     },
     "execution_count": 3,
     "metadata": {},
     "output_type": "execute_result"
    }
   ],
   "source": [
    "import pandas as pd\n",
    "\n",
    "staionInfo=pd.read_csv('../../Metro/station_transInfo.csv')\n",
    "len(staionInfo.values)"
   ]
  },
  {
   "cell_type": "code",
   "execution_count": 6,
   "metadata": {},
   "outputs": [],
   "source": [
    "personalInfo=pd.read_csv('../../Metro/metroData_ts.csv',header=None)\n",
    "stationVisited=set(personalInfo.values[:,3])|set(personalInfo.values[:,4])"
   ]
  },
  {
   "cell_type": "code",
   "execution_count": 7,
   "metadata": {},
   "outputs": [
    {
     "name": "stdout",
     "output_type": "stream",
     "text": [
      "412\n"
     ]
    }
   ],
   "source": [
    "stationVisited=list(stationVisited)\n",
    "print(len(stationVisited))"
   ]
  },
  {
   "cell_type": "code",
   "execution_count": 10,
   "metadata": {},
   "outputs": [
    {
     "data": {
      "text/plain": [
       "340"
      ]
     },
     "execution_count": 10,
     "metadata": {},
     "output_type": "execute_result"
    }
   ],
   "source": [
    "# deal wiht transferStation\n",
    "import pickle as pkl\n",
    "\n",
    "with open('../../Metro/transferStations.pkl','rb') as infile:\n",
    "    transferStation, transferStationToNewID = pkl.load(open(\"../../Metro/transferStations.pkl\",'rb'))\n",
    "\n",
    "stationVisitedClean=[]\n",
    "\n",
    "for station in stationVisited:\n",
    "    try:\n",
    "        stationVisitedClean.append(transferStationToNewID[station])\n",
    "    except:\n",
    "        stationVisitedClean.append(station)\n",
    "\n",
    "stationVisitedClean=list(set(stationVisitedClean))\n",
    "len(stationVisitedClean)"
   ]
  },
  {
   "cell_type": "code",
   "execution_count": 12,
   "metadata": {},
   "outputs": [],
   "source": [
    "stationPrepared=staionInfo.values[:,1]\n",
    "\n",
    "notvisited=[station for station in stationPrepared if station not in stationVisitedClean]\n",
    "notprepared=[station for station in stationVisitedClean if station not in stationPrepared]"
   ]
  },
  {
   "cell_type": "code",
   "execution_count": 13,
   "metadata": {},
   "outputs": [
    {
     "data": {
      "text/plain": [
       "[1722,\n",
       " 945,\n",
       " 1732,\n",
       " 1727,\n",
       " 1733,\n",
       " 1723,\n",
       " 1724,\n",
       " 1725,\n",
       " 1726,\n",
       " 1728,\n",
       " 1729,\n",
       " 1730,\n",
       " 1731,\n",
       " 944,\n",
       " 946,\n",
       " 947,\n",
       " 948,\n",
       " 950,\n",
       " 951,\n",
       " 952]"
      ]
     },
     "execution_count": 13,
     "metadata": {},
     "output_type": "execute_result"
    }
   ],
   "source": [
    "notvisited"
   ]
  },
  {
   "cell_type": "code",
   "execution_count": 17,
   "metadata": {},
   "outputs": [
    {
     "data": {
      "text/plain": [
       "20"
      ]
     },
     "execution_count": 17,
     "metadata": {},
     "output_type": "execute_result"
    }
   ],
   "source": [
    "len(notvisited)"
   ]
  },
  {
   "cell_type": "code",
   "execution_count": 16,
   "metadata": {},
   "outputs": [
    {
     "data": {
      "text/plain": [
       "[4100,\n",
       " 2110,\n",
       " 4209,\n",
       " 2200,\n",
       " 2221,\n",
       " 2229,\n",
       " 2300,\n",
       " 2310,\n",
       " 6610,\n",
       " 516,\n",
       " 4900,\n",
       " 810,\n",
       " 2900,\n",
       " 873,\n",
       " 900,\n",
       " 1000,\n",
       " 3100,\n",
       " 1158,\n",
       " 3210,\n",
       " 3214,\n",
       " 3257,\n",
       " 5353,\n",
       " 1299,\n",
       " 5403,\n",
       " 1400,\n",
       " 5500,\n",
       " 3500,\n",
       " 3523,\n",
       " 5610,\n",
       " 3600,\n",
       " 1600,\n",
       " 5757,\n",
       " 1700,\n",
       " 5800,\n",
       " 3818,\n",
       " 1800,\n",
       " 4000,\n",
       " 8131]"
      ]
     },
     "execution_count": 16,
     "metadata": {},
     "output_type": "execute_result"
    }
   ],
   "source": [
    "# which is allowed\n",
    "\"\"\"\n",
    " if inStation_new not in set(stations) or outStation_new not in set(stations):\n",
    "            continue\n",
    "\"\"\"\n",
    "notprepared\n"
   ]
  },
  {
   "cell_type": "code",
   "execution_count": 18,
   "metadata": {},
   "outputs": [
    {
     "data": {
      "text/plain": [
       "38"
      ]
     },
     "execution_count": 18,
     "metadata": {},
     "output_type": "execute_result"
    }
   ],
   "source": [
    "len(notprepared)"
   ]
  }
 ],
 "metadata": {
  "kernelspec": {
   "display_name": "mybase",
   "language": "python",
   "name": "mybase"
  },
  "language_info": {
   "codemirror_mode": {
    "name": "ipython",
    "version": 3
   },
   "file_extension": ".py",
   "mimetype": "text/x-python",
   "name": "python",
   "nbconvert_exporter": "python",
   "pygments_lexer": "ipython3",
   "version": "3.9.19"
  }
 },
 "nbformat": 4,
 "nbformat_minor": 2
}
