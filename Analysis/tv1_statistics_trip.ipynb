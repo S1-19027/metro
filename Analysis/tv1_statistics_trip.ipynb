{
 "cells": [
  {
   "cell_type": "code",
   "execution_count": 1,
   "metadata": {},
   "outputs": [],
   "source": [
    "import numpy as np\n",
    "from collections import Counter\n",
    "import matplotlib.pyplot as plt\n",
    "import pickle\n",
    "import os\n",
    "import pandas as pd\n",
    "from tqdm import tqdm\n",
    "from scipy.optimize import curve_fit"
   ]
  },
  {
   "cell_type": "code",
   "execution_count": 2,
   "metadata": {},
   "outputs": [],
   "source": [
    "with open('/data6/peiyan/SH-METR/results/userLabels.pkl','rb') as infile: # {1 : commuter, 0 : non-commuter, -1 : no home}\n",
    "    userLabels = pickle.load(infile)\n",
    "\n",
    "with open('/data6/peiyan/SH-METR/results/stationLabels.pkl','rb') as infile: # h,w,0\n",
    "    tationLabels = pickle.load(infile)\n",
    "\n",
    "with open('/data6/peiyan/SH-METR/results/TripLabels.pkl','rb') as infile:  # 0: c, 1: HBO, 2+3: NHB\n",
    "    tripLabels = pickle.load(infile)\n"
   ]
  },
  {
   "cell_type": "code",
   "execution_count": 2,
   "metadata": {},
   "outputs": [],
   "source": [
    "stationInfo = pd.read_csv('../../Metro/station_transInfo_cleaned.csv')\n",
    "dict_staionName = dict(zip(stationInfo['stationID'], stationInfo['name']))\n",
    "dict_stationLoc = dict(zip(stationInfo['stationID'], zip(stationInfo['lon'],stationInfo['lat'])))\n",
    "stationID_List = list(stationInfo['stationID'])\n",
    "stationID2index = {ID:index for index, ID in enumerate(stationID_List)}\n",
    "\n",
    "with open('../../MetaData/travelDis.pkl', 'rb') as f:\n",
    "    travelDis = pickle.load(f)\n",
    "\n",
    "with open('../../MetaData/travelTime.pkl','rb') as f:\n",
    "    travelTime = pickle.load(f)"
   ]
  },
  {
   "cell_type": "code",
   "execution_count": 4,
   "metadata": {},
   "outputs": [
    {
     "name": "stdout",
     "output_type": "stream",
     "text": [
      "# of commuters : 0.6727500203838562\n",
      "# of non-commuters : 0.32724997961614377\n",
      "# of no home : 0.25710860000060926\n"
     ]
    }
   ],
   "source": [
    "numCommuters = np.sum([i for i in userLabels.values() if i==1])\n",
    "numNoHome = np.sum([-i for i in userLabels.values() if i==-1])\n",
    "numNonCommuters = len(userLabels) - numCommuters - numNoHome\n",
    "\n",
    "print( \"# of commuters : {}\".format(numCommuters/float(numNonCommuters + numCommuters)))\n",
    "print(\"# of non-commuters : {}\".format(numNonCommuters/float(numNonCommuters + numCommuters)))\n",
    "print (\"# of no home : {}\".format(numNoHome/float(len(userLabels))))\n"
   ]
  },
  {
   "cell_type": "code",
   "execution_count": 7,
   "metadata": {},
   "outputs": [
    {
     "name": "stderr",
     "output_type": "stream",
     "text": [
      "  0%|          | 0/19695580 [00:00<?, ?it/s]"
     ]
    },
    {
     "name": "stderr",
     "output_type": "stream",
     "text": [
      "100%|██████████| 19695580/19695580 [08:33<00:00, 38382.79it/s]\n"
     ]
    },
    {
     "name": "stdout",
     "output_type": "stream",
     "text": [
      "115.265\n",
      "264.87916666666666\n"
     ]
    }
   ],
   "source": [
    "# distribution of trip distances & time for all, commuters, non-commuters\n",
    "# distances = pickle.load(open(\"results/stationDistances.pkl\", 'rb'))\n",
    "allTripsDistances = [] \n",
    "allTripsTimes = []      \n",
    "distancesInTripTypes = [[] for i in range(3)] # 0:c, 1: HBO, 2:NHB\n",
    "timesInTripTypes = [[] for i in range(3)]\n",
    "\n",
    "# describe activeness of user and station by trip numbers \n",
    "userTripCount = []\n",
    "stationTripCount = [ 0 for i in range(len(stationID_List))]\n",
    "\n",
    "for user in tqdm(userLabels):\n",
    "    userTripCount.append(len(tripLabels[user]))\n",
    "    label = userLabels[user]\n",
    "    for trip, tripL in tripLabels[user].items(): #trip:(inStation, outStation), tripL: tripLabel \n",
    "        inStationID = trip[0]\n",
    "        outStationID = trip[1]\n",
    "        instationIndex = stationID2index[inStationID]\n",
    "        outstationIndex = stationID2index[outStationID]\n",
    "        #dist = distances[trip]\n",
    "        dist = travelDis[instationIndex, outstationIndex]/1000 # m -> km\n",
    "        time = travelTime[instationIndex, outstationIndex]/60 # second -> minute\n",
    "        allTripsDistances.append(dist)\n",
    "        allTripsTimes.append(time)\n",
    "\n",
    "        tripL_v2 = tripL if tripL<2 else 2\n",
    "        distancesInTripTypes[tripL_v2].append(dist)\n",
    "        timesInTripTypes[tripL_v2].append(time)\n",
    "\n",
    "        stationTripCount[instationIndex] += 1\n",
    "        stationTripCount[outstationIndex] += 1\n",
    "\n",
    "print(np.max(allTripsDistances))\n",
    "print(np.max(allTripsTimes))\n",
    "\n",
    "with open('temp/statistics_trip.pkl','wb') as outfile:\n",
    "    pickle.dump([allTripsDistances, distancesInTripTypes, allTripsTimes, timesInTripTypes, userTripCount, stationTripCount], outfile)"
   ]
  },
  {
   "cell_type": "code",
   "execution_count": 3,
   "metadata": {},
   "outputs": [],
   "source": [
    "with open('temp/statistics_trip.pkl','rb') as infile:\n",
    "    allTripsDistances, distancesInTripTypes, allTripsTimes, timesInTripTypes, userTripCount, stationTripCount = pickle.load(infile)"
   ]
  },
  {
   "cell_type": "code",
   "execution_count": 100,
   "metadata": {},
   "outputs": [
    {
     "name": "stdout",
     "output_type": "stream",
     "text": [
      "[1.79084563e-01 5.55106615e-17 5.68487296e-02]\n"
     ]
    }
   ],
   "source": [
    "# plot the distritbuion\n",
    "# travel distance & time of varying types of trips\n",
    "\n",
    "# travel distance of varying types of trips\n",
    "\n",
    "def truncated_power_law(x, C, alpha, lambd):\n",
    "    return C  * (x ** (-alpha)) *np.exp(-lambd * x)\n",
    "\n",
    "maxV = 120\n",
    "numInterval = 40\n",
    "# bins = np.linspace(0, maxV, numInterval + 1)\n",
    "log_bins = np.logspace(np.log10(1), np.log10(maxV), numInterval + 1)\n",
    "bin_centers = np.sqrt(log_bins[:-1] * log_bins[1:]) \n",
    "\n",
    "usagesHist = np.histogram(np.array(allTripsDistances),log_bins)\n",
    "usagesHist_all = np.divide(usagesHist[0], float(np.sum(usagesHist[0])))\n",
    "\n",
    "# home-work trip\n",
    "usagesHist = np.histogram(np.array(distancesInTripTypes[0]), log_bins)\n",
    "usagesHist_HW = np.divide(usagesHist[0], float(np.sum(usagesHist[0])))\n",
    "\n",
    "# home-other trip\n",
    "usagesHist = np.histogram(np.array(distancesInTripTypes[1]), log_bins)\n",
    "usagesHist_HO = np.divide(usagesHist[0], float(np.sum(usagesHist[0])))\n",
    "\n",
    "# none-home-based trip\n",
    "usagesHist = np.histogram(np.array(distancesInTripTypes[2]), log_bins)\n",
    "usagesHist_NHB = np.divide(usagesHist[0], float(np.sum(usagesHist[0])))\n",
    "\n",
    "bins = np.array(bins[1:])\n",
    "\n",
    "fig = plt.figure(figsize=(6, 4))\n",
    "ax = plt.subplot(1, 1, 1)\n",
    "\n",
    "plt.scatter(bin_centers.tolist(), usagesHist_all.tolist(), marker='o',s=15, linewidth=0.5, facecolor='#41A7D8',\n",
    "        edgecolor='k', label='All')\n",
    "plt.scatter(bin_centers.tolist(), usagesHist_HW.tolist(), marker='v', s=15, linewidth=0.5, facecolor='#1b7837',\n",
    "        edgecolor='k', label='Commuting Trips')\n",
    "plt.scatter(bin_centers.tolist(), usagesHist_HO.tolist(), marker='s', s=15, linewidth=0.5, facecolor='#d73027',\n",
    "        edgecolor='k', label='Home Based Other Trips')\n",
    "plt.scatter(bin_centers.tolist(), usagesHist_NHB.tolist(), marker='s', s=15, linewidth=0.5, facecolor='#762a83',\n",
    "        edgecolor='k', label='None Home Based Trips')\n",
    "\n",
    "plt.xlim(1, maxV)\n",
    "plt.ylim(1e-5)\n",
    "#plt.xticks(np.linspace(0, maxV, numInterval/10+1))\n",
    "#plt.xticks(np.linspace(0, int(maxV), int(numInterval/10+1)))\n",
    "plt.xticks(bin_centers)\n",
    "plt.xscale(\"log\", nonpositive='clip')\n",
    "plt.yscale(\"log\", nonpositive='clip')\n",
    "plt.xlabel(r'Travel distance, d [km]', fontsize=12)\n",
    "plt.ylabel(r\"Density, $F(d)$\", fontsize=12)\n",
    "plt.tick_params(labelsize=12)\n",
    "\n",
    "\n",
    "# fit curve\n",
    "x_data = bin_centers[27:]\n",
    "y_data = usagesHist_all[27:]\n",
    "\n",
    "p0 = [1.0, 0.1, 0.01]  # Initial guess for parameters [C, alpha, λ]\n",
    "bounds = ([0, 0, 0], [np.inf, np.inf, np.inf])  # Parameter bounds\n",
    "params, _ = curve_fit(truncated_power_law, x_data, y_data, p0=p0, bounds=bounds)\n",
    "print(params)\n",
    "\n",
    "# Generate points for the fitted curve\n",
    "x_fit = np.logspace(np.log10(bin_centers[19]), np.log10(maxV), 100)  \n",
    "y_fit = truncated_power_law(x_fit, *params)\n",
    "C = params[0].round(2)\n",
    "alpha = params[1].round(18)\n",
    "lambd = params[2].round(4)\n",
    "plt.plot(x_fit, y_fit, '--', color='#00856D', linewidth=2, label=fr'$p(d) = {C} e^{{-{lambd}d}}$', zorder=0)\n",
    "plt.legend(loc=\"lower left\", frameon=False)\n",
    "\n",
    "\n",
    "plt.tight_layout()\n",
    "#plt.savefig('../results/distance_tripType.png', dpi=300)\n",
    "plt.savefig('../results/distance_tripType.pdf')\n",
    "plt.close()\n",
    "\n"
   ]
  },
  {
   "cell_type": "code",
   "execution_count": 4,
   "metadata": {},
   "outputs": [
    {
     "name": "stdout",
     "output_type": "stream",
     "text": [
      "661\n",
      "13409060\n"
     ]
    }
   ],
   "source": [
    "import seaborn as sns\n",
    "# Activeness of users and stations\n",
    "fig, ax = plt.subplots(1,2, figsize=(8, 4))\n",
    "print(np.max(userTripCount))\n",
    "print(np.max(stationTripCount))\n",
    "\n",
    "sns.histplot(userTripCount, bins=np.arange(0, 120, 4), kde=True, color='royalblue', edgecolor='white',linewidth=1.2, ax=ax[0])\n",
    "ax[0].set_xlabel('# of trips by users',fontsize=12)\n",
    "ax[0].set_ylabel('User count',fontsize=12)\n",
    "ax[0].set_yscale('log')\n",
    "ax[0].set_xlim(-5, 120)\n",
    "ax[0].set_ylim(1e4, 1.5e7)\n",
    "ax[0].tick_params(labelsize=12)\n",
    "#ax[0].spines['top'].set_visible(False)\n",
    "#ax[0].spines['right'].set_visible(False)\n",
    "\n",
    "sns.histplot(stationTripCount, bins=np.arange(0, 1e7, 500000), kde=True, color='salmon', edgecolor='white', linewidth=1.2,ax=ax[1])\n",
    "ax[1].set_xlabel('# of trips by stations',fontsize=12)\n",
    "ax[1].set_ylabel('Station count',fontsize=12)\n",
    "ax[1].tick_params(labelsize=12)\n",
    "#ax[1].spines['top'].set_visible(False)\n",
    "#ax[1].spines['right'].set_visible(False)\n",
    "\n",
    "plt.tight_layout()\n",
    "plt.savefig('../results/activeness_analysis.pdf', dpi=300)\n",
    "plt.close()\n"
   ]
  },
  {
   "cell_type": "code",
   "execution_count": null,
   "metadata": {},
   "outputs": [],
   "source": []
  }
 ],
 "metadata": {
  "kernelspec": {
   "display_name": "mybase",
   "language": "python",
   "name": "mybase"
  },
  "language_info": {
   "codemirror_mode": {
    "name": "ipython",
    "version": 3
   },
   "file_extension": ".py",
   "mimetype": "text/x-python",
   "name": "python",
   "nbconvert_exporter": "python",
   "pygments_lexer": "ipython3",
   "version": "3.9.19"
  }
 },
 "nbformat": 4,
 "nbformat_minor": 2
}
